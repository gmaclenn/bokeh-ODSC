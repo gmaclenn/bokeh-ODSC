{
 "cells": [
  {
   "cell_type": "markdown",
   "metadata": {},
   "source": [
    "## Creating Bokeh Apps\n",
    "- Basic App Structure\n",
    "    - Create a plot\n",
    "    - Create a widget\n",
    "    - Connect widget & plots (callbacks)\n",
    "    - Arrange all the plots and widgets together to layouts\n",
    "    - use `curdoc().add_root()` to add the layouts to the current document"
   ]
  },
  {
   "cell_type": "markdown",
   "metadata": {},
   "source": [
    "### Serving Bokeh Apps\n",
    "- bokeh serve --show app.py\n",
    "- bokeh serve --show appdir/"
   ]
  },
  {
   "cell_type": "markdown",
   "metadata": {},
   "source": [
    "#### Will not necessarily be showing optimal way to fun things but in a way that is most understandable\n"
   ]
  },
  {
   "cell_type": "markdown",
   "metadata": {},
   "source": [
    "* ** The below code will not run but we will walk through each step to understand what is going on **"
   ]
  },
  {
   "cell_type": "code",
   "execution_count": null,
   "metadata": {
    "collapsed": true,
    "run_control": {
     "marked": true
    }
   },
   "outputs": [],
   "source": [
    "# \"current document\" where all the the plots and layouts are held\n",
    "from bokeh.io import curdoc \n",
    "\n",
    "from bokeh.plotting import figure\n",
    "from bokeh.models import ColumnDataSource\n",
    "\n",
    "import pandas as pd\n",
    "\n",
    "# read the dataset\n",
    "service_requests = pd.read_csv('../datasets/service-requests.csv', index_col=0)\n",
    "\n",
    "# convert it to a ColumnDataSource\n",
    "sr_cds = ColumnDataSource(service_requests)\n",
    "\n",
    "# create the blank figure\n",
    "p = figure()\n",
    "\n",
    "# create circle glyphs with latitude and longitude coordinates as x and y\n",
    "p.circle('LATITUDE', 'LONGITUDE', source=sr_cds)\n",
    "\n",
    "# add the plot to the current document\n",
    "curdoc().add_root(p)"
   ]
  },
  {
   "cell_type": "markdown",
   "metadata": {},
   "source": [
    "<img src='../images/311-requests/101.png'>"
   ]
  },
  {
   "cell_type": "code",
   "execution_count": null,
   "metadata": {
    "collapsed": true
   },
   "outputs": [],
   "source": []
  }
 ],
 "metadata": {
  "kernelspec": {
   "display_name": "Python 3",
   "language": "python",
   "name": "python3"
  },
  "language_info": {
   "codemirror_mode": {
    "name": "ipython",
    "version": 3
   },
   "file_extension": ".py",
   "mimetype": "text/x-python",
   "name": "python",
   "nbconvert_exporter": "python",
   "pygments_lexer": "ipython3",
   "version": "3.6.1"
  }
 },
 "nbformat": 4,
 "nbformat_minor": 2
}
