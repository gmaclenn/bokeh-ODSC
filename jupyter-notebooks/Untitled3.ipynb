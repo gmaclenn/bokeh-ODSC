{
 "cells": [
  {
   "cell_type": "code",
   "execution_count": 1,
   "metadata": {
    "collapsed": true
   },
   "outputs": [],
   "source": [
    "from bokeh.plotting import figure\n",
    "from bokeh.resources import CDN\n",
    "from bokeh.embed import file_html\n",
    "\n",
    "plot = figure()\n",
    "plot.circle([1,2], [3,4])\n",
    "\n",
    "html = file_html(plot, CDN, \"my plot\")"
   ]
  },
  {
   "cell_type": "code",
   "execution_count": 2,
   "metadata": {},
   "outputs": [
    {
     "name": "stdout",
     "output_type": "stream",
     "text": [
      "\n",
      "<!DOCTYPE html>\n",
      "<html lang=\"en\">\n",
      "    <head>\n",
      "        <meta charset=\"utf-8\">\n",
      "        <title>my plot</title>\n",
      "        \n",
      "<link rel=\"stylesheet\" href=\"https://cdn.pydata.org/bokeh/release/bokeh-0.12.5.min.css\" type=\"text/css\" />\n",
      "        \n",
      "<script type=\"text/javascript\" src=\"https://cdn.pydata.org/bokeh/release/bokeh-0.12.5.min.js\"></script>\n",
      "<script type=\"text/javascript\">\n",
      "    Bokeh.set_log_level(\"info\");\n",
      "</script>\n",
      "        <style>\n",
      "          html {\n",
      "            width: 100%;\n",
      "            height: 100%;\n",
      "          }\n",
      "          body {\n",
      "            width: 90%;\n",
      "            height: 100%;\n",
      "            margin: auto;\n",
      "          }\n",
      "        </style>\n",
      "    </head>\n",
      "    <body>\n",
      "        \n",
      "        <div class=\"bk-root\">\n",
      "            <div class=\"bk-plotdiv\" id=\"cbde279b-4a3f-4d74-ba59-f67440701a41\"></div>\n",
      "        </div>\n",
      "        \n",
      "        <script type=\"text/javascript\">\n",
      "            (function() {\n",
      "          var fn = function() {\n",
      "            Bokeh.safely(function() {\n",
      "              var docs_json = {\"e1aabe23-0b32-41b5-80a0-7c9149cad26a\":{\"roots\":{\"references\":[{\"attributes\":{},\"id\":\"1f22786e-7bf4-41cb-92fc-3c6773a0df35\",\"type\":\"BasicTicker\"},{\"attributes\":{\"data_source\":{\"id\":\"6ece110f-4e78-4e22-a73d-eb0b088ab881\",\"type\":\"ColumnDataSource\"},\"glyph\":{\"id\":\"106824c2-3531-4d35-8450-b49d7b49705a\",\"type\":\"Circle\"},\"hover_glyph\":null,\"muted_glyph\":null,\"nonselection_glyph\":{\"id\":\"4fb614ec-e4b0-4436-95e0-4043ede979cb\",\"type\":\"Circle\"},\"selection_glyph\":null},\"id\":\"1af2fdcd-ae72-40de-bbd6-59652ef108b0\",\"type\":\"GlyphRenderer\"},{\"attributes\":{},\"id\":\"0bbbe753-3b47-44b6-acb5-67102753e53c\",\"type\":\"BasicTicker\"},{\"attributes\":{\"formatter\":{\"id\":\"a00968b4-19dd-47fe-a344-6dd321fef55b\",\"type\":\"BasicTickFormatter\"},\"plot\":{\"id\":\"4195bb24-1ba2-4460-820c-9063b4d221d3\",\"subtype\":\"Figure\",\"type\":\"Plot\"},\"ticker\":{\"id\":\"0bbbe753-3b47-44b6-acb5-67102753e53c\",\"type\":\"BasicTicker\"}},\"id\":\"8cb337ba-fadb-4700-b125-aecf450c1007\",\"type\":\"LinearAxis\"},{\"attributes\":{\"dimension\":1,\"plot\":{\"id\":\"4195bb24-1ba2-4460-820c-9063b4d221d3\",\"subtype\":\"Figure\",\"type\":\"Plot\"},\"ticker\":{\"id\":\"0bbbe753-3b47-44b6-acb5-67102753e53c\",\"type\":\"BasicTicker\"}},\"id\":\"e692a62c-50c7-4077-ace3-24a5ec653a16\",\"type\":\"Grid\"},{\"attributes\":{\"fill_alpha\":{\"value\":0.1},\"fill_color\":{\"value\":\"#1f77b4\"},\"line_alpha\":{\"value\":0.1},\"line_color\":{\"value\":\"#1f77b4\"},\"x\":{\"field\":\"x\"},\"y\":{\"field\":\"y\"}},\"id\":\"4fb614ec-e4b0-4436-95e0-4043ede979cb\",\"type\":\"Circle\"},{\"attributes\":{\"bottom_units\":\"screen\",\"fill_alpha\":{\"value\":0.5},\"fill_color\":{\"value\":\"lightgrey\"},\"left_units\":\"screen\",\"level\":\"overlay\",\"line_alpha\":{\"value\":1.0},\"line_color\":{\"value\":\"black\"},\"line_dash\":[4,4],\"line_width\":{\"value\":2},\"plot\":null,\"render_mode\":\"css\",\"right_units\":\"screen\",\"top_units\":\"screen\"},\"id\":\"9ec48501-2f83-44e9-b791-5c7daa6fdf77\",\"type\":\"BoxAnnotation\"},{\"attributes\":{},\"id\":\"a00968b4-19dd-47fe-a344-6dd321fef55b\",\"type\":\"BasicTickFormatter\"},{\"attributes\":{},\"id\":\"7024d5eb-67e3-4c85-ad0c-16c0a033c49e\",\"type\":\"BasicTickFormatter\"},{\"attributes\":{\"callback\":null,\"column_names\":[\"x\",\"y\"],\"data\":{\"x\":[1,2],\"y\":[3,4]}},\"id\":\"6ece110f-4e78-4e22-a73d-eb0b088ab881\",\"type\":\"ColumnDataSource\"},{\"attributes\":{\"plot\":{\"id\":\"4195bb24-1ba2-4460-820c-9063b4d221d3\",\"subtype\":\"Figure\",\"type\":\"Plot\"}},\"id\":\"6fc83988-512d-4fdc-9b12-04ac5392615f\",\"type\":\"PanTool\"},{\"attributes\":{\"plot\":{\"id\":\"4195bb24-1ba2-4460-820c-9063b4d221d3\",\"subtype\":\"Figure\",\"type\":\"Plot\"}},\"id\":\"b295bb65-779d-4955-90a7-f88695740e1d\",\"type\":\"WheelZoomTool\"},{\"attributes\":{\"overlay\":{\"id\":\"9ec48501-2f83-44e9-b791-5c7daa6fdf77\",\"type\":\"BoxAnnotation\"},\"plot\":{\"id\":\"4195bb24-1ba2-4460-820c-9063b4d221d3\",\"subtype\":\"Figure\",\"type\":\"Plot\"}},\"id\":\"9ff8d120-6be5-4744-88b0-3a84a663f80c\",\"type\":\"BoxZoomTool\"},{\"attributes\":{\"callback\":null},\"id\":\"57ede6ec-023b-4965-affa-9630058b645d\",\"type\":\"DataRange1d\"},{\"attributes\":{\"plot\":{\"id\":\"4195bb24-1ba2-4460-820c-9063b4d221d3\",\"subtype\":\"Figure\",\"type\":\"Plot\"}},\"id\":\"b3721037-d17f-43b6-a070-7b795d5685fc\",\"type\":\"SaveTool\"},{\"attributes\":{\"plot\":{\"id\":\"4195bb24-1ba2-4460-820c-9063b4d221d3\",\"subtype\":\"Figure\",\"type\":\"Plot\"}},\"id\":\"d1dfdbfe-27d3-40db-8082-7c28f6b1f5f7\",\"type\":\"ResetTool\"},{\"attributes\":{\"plot\":{\"id\":\"4195bb24-1ba2-4460-820c-9063b4d221d3\",\"subtype\":\"Figure\",\"type\":\"Plot\"}},\"id\":\"efe0fccd-8a1f-4fc4-bc1f-dc5b8d022bd4\",\"type\":\"HelpTool\"},{\"attributes\":{\"fill_color\":{\"value\":\"#1f77b4\"},\"line_color\":{\"value\":\"#1f77b4\"},\"x\":{\"field\":\"x\"},\"y\":{\"field\":\"y\"}},\"id\":\"106824c2-3531-4d35-8450-b49d7b49705a\",\"type\":\"Circle\"},{\"attributes\":{},\"id\":\"262a911d-24ff-4420-aca8-a1f3b1ba7413\",\"type\":\"ToolEvents\"},{\"attributes\":{\"active_drag\":\"auto\",\"active_scroll\":\"auto\",\"active_tap\":\"auto\",\"tools\":[{\"id\":\"6fc83988-512d-4fdc-9b12-04ac5392615f\",\"type\":\"PanTool\"},{\"id\":\"b295bb65-779d-4955-90a7-f88695740e1d\",\"type\":\"WheelZoomTool\"},{\"id\":\"9ff8d120-6be5-4744-88b0-3a84a663f80c\",\"type\":\"BoxZoomTool\"},{\"id\":\"b3721037-d17f-43b6-a070-7b795d5685fc\",\"type\":\"SaveTool\"},{\"id\":\"d1dfdbfe-27d3-40db-8082-7c28f6b1f5f7\",\"type\":\"ResetTool\"},{\"id\":\"efe0fccd-8a1f-4fc4-bc1f-dc5b8d022bd4\",\"type\":\"HelpTool\"}]},\"id\":\"1d511807-9565-4466-97fd-c1533c8f87df\",\"type\":\"Toolbar\"},{\"attributes\":{\"below\":[{\"id\":\"ee8de1a5-ca28-469b-a6c5-2fc67bc7f192\",\"type\":\"LinearAxis\"}],\"left\":[{\"id\":\"8cb337ba-fadb-4700-b125-aecf450c1007\",\"type\":\"LinearAxis\"}],\"renderers\":[{\"id\":\"ee8de1a5-ca28-469b-a6c5-2fc67bc7f192\",\"type\":\"LinearAxis\"},{\"id\":\"48c379ac-9c54-4e9a-9f51-37be4dc01dc2\",\"type\":\"Grid\"},{\"id\":\"8cb337ba-fadb-4700-b125-aecf450c1007\",\"type\":\"LinearAxis\"},{\"id\":\"e692a62c-50c7-4077-ace3-24a5ec653a16\",\"type\":\"Grid\"},{\"id\":\"9ec48501-2f83-44e9-b791-5c7daa6fdf77\",\"type\":\"BoxAnnotation\"},{\"id\":\"1af2fdcd-ae72-40de-bbd6-59652ef108b0\",\"type\":\"GlyphRenderer\"}],\"title\":{\"id\":\"34e96565-8353-4553-828b-7e1e40021209\",\"type\":\"Title\"},\"tool_events\":{\"id\":\"262a911d-24ff-4420-aca8-a1f3b1ba7413\",\"type\":\"ToolEvents\"},\"toolbar\":{\"id\":\"1d511807-9565-4466-97fd-c1533c8f87df\",\"type\":\"Toolbar\"},\"x_range\":{\"id\":\"52f2dafe-4b91-4c53-b52a-f65255c75cc0\",\"type\":\"DataRange1d\"},\"y_range\":{\"id\":\"57ede6ec-023b-4965-affa-9630058b645d\",\"type\":\"DataRange1d\"}},\"id\":\"4195bb24-1ba2-4460-820c-9063b4d221d3\",\"subtype\":\"Figure\",\"type\":\"Plot\"},{\"attributes\":{\"formatter\":{\"id\":\"7024d5eb-67e3-4c85-ad0c-16c0a033c49e\",\"type\":\"BasicTickFormatter\"},\"plot\":{\"id\":\"4195bb24-1ba2-4460-820c-9063b4d221d3\",\"subtype\":\"Figure\",\"type\":\"Plot\"},\"ticker\":{\"id\":\"1f22786e-7bf4-41cb-92fc-3c6773a0df35\",\"type\":\"BasicTicker\"}},\"id\":\"ee8de1a5-ca28-469b-a6c5-2fc67bc7f192\",\"type\":\"LinearAxis\"},{\"attributes\":{\"callback\":null},\"id\":\"52f2dafe-4b91-4c53-b52a-f65255c75cc0\",\"type\":\"DataRange1d\"},{\"attributes\":{\"plot\":null,\"text\":\"\"},\"id\":\"34e96565-8353-4553-828b-7e1e40021209\",\"type\":\"Title\"},{\"attributes\":{\"plot\":{\"id\":\"4195bb24-1ba2-4460-820c-9063b4d221d3\",\"subtype\":\"Figure\",\"type\":\"Plot\"},\"ticker\":{\"id\":\"1f22786e-7bf4-41cb-92fc-3c6773a0df35\",\"type\":\"BasicTicker\"}},\"id\":\"48c379ac-9c54-4e9a-9f51-37be4dc01dc2\",\"type\":\"Grid\"}],\"root_ids\":[\"4195bb24-1ba2-4460-820c-9063b4d221d3\"]},\"title\":\"Bokeh Application\",\"version\":\"0.12.5\"}};\n",
      "              var render_items = [{\"docid\":\"e1aabe23-0b32-41b5-80a0-7c9149cad26a\",\"elementid\":\"cbde279b-4a3f-4d74-ba59-f67440701a41\",\"modelid\":\"4195bb24-1ba2-4460-820c-9063b4d221d3\"}];\n",
      "              \n",
      "              Bokeh.embed.embed_items(docs_json, render_items);\n",
      "            });\n",
      "          };\n",
      "          if (document.readyState != \"loading\") fn();\n",
      "          else document.addEventListener(\"DOMContentLoaded\", fn);\n",
      "        })();\n",
      "        \n",
      "        </script>\n",
      "    </body>\n",
      "</html>\n"
     ]
    }
   ],
   "source": [
    "print(html)"
   ]
  },
  {
   "cell_type": "code",
   "execution_count": null,
   "metadata": {
    "collapsed": true
   },
   "outputs": [],
   "source": []
  }
 ],
 "metadata": {
  "kernelspec": {
   "display_name": "Python 3",
   "language": "python",
   "name": "python3"
  },
  "language_info": {
   "codemirror_mode": {
    "name": "ipython",
    "version": 3
   },
   "file_extension": ".py",
   "mimetype": "text/x-python",
   "name": "python",
   "nbconvert_exporter": "python",
   "pygments_lexer": "ipython3",
   "version": "3.6.1"
  }
 },
 "nbformat": 4,
 "nbformat_minor": 2
}
