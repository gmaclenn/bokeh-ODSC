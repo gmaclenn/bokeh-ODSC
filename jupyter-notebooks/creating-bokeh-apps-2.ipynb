{
 "cells": [
  {
   "cell_type": "markdown",
   "metadata": {},
   "source": [
    "## Creating Bokeh Apps\n",
    "- Basic App Structure\n",
    "    - Create a plot\n",
    "    - Create a widget\n",
    "    - Connect widget & plots (callbacks)\n",
    "    - Arrange all the plots and widgets together to layouts\n",
    "    - use `curdoc().add_root()` to add the layouts to the current document"
   ]
  },
  {
   "cell_type": "markdown",
   "metadata": {},
   "source": [
    "### Serving Bokeh Apps\n",
    "- bokeh serve --show app.py\n",
    "- bokeh serve --show appdir/"
   ]
  },
  {
   "cell_type": "markdown",
   "metadata": {},
   "source": [
    "#### Will not necessarily be showing optimal way to fun things but in a way that is most understandable\n"
   ]
  },
  {
   "cell_type": "markdown",
   "metadata": {},
   "source": [
    "* ** The below code will not run but we will walk through each step to understand what is going on **"
   ]
  },
  {
   "cell_type": "code",
   "execution_count": null,
   "metadata": {
    "collapsed": true,
    "run_control": {
     "marked": true
    }
   },
   "outputs": [],
   "source": [
    "# \"current document\" where all the the plots and layouts are held\n",
    "from bokeh.io import curdoc \n",
    "\n",
    "from bokeh.plotting import figure\n",
    "from bokeh.models import ColumnDataSource\n",
    "\n",
    "import pandas as pd\n",
    "\n",
    "# read the dataset\n",
    "service_requests = pd.read_csv('../datasets/service-requests.csv', index_col=0)\n",
    "\n",
    "# convert it to a ColumnDataSource\n",
    "sr_cds = ColumnDataSource(service_requests)\n",
    "\n",
    "# create the blank figure\n",
    "p = figure()\n",
    "\n",
    "# create circle glyphs with latitude and longitude coordinates as x and y\n",
    "p.circle('LATITUDE', 'LONGITUDE', source=sr_cds)\n",
    "\n",
    "# add the plot to the current document\n",
    "curdoc().add_root(p)"
   ]
  },
  {
   "cell_type": "markdown",
   "metadata": {},
   "source": [
    "<img src=\"../images/311-requests/101.png\", height=400, width=400>"
   ]
  },
  {
   "cell_type": "markdown",
   "metadata": {},
   "source": [
    "* Now we'll build a drop down menu"
   ]
  },
  {
   "cell_type": "markdown",
   "metadata": {},
   "source": [
    "* The 'CASE_STATUS' column within the 311 service requests dataset has two options. 'CLOSED' and 'OPEN'.\n",
    "* Screenshot of how you could find this out for any particular column of data"
   ]
  },
  {
   "cell_type": "markdown",
   "metadata": {},
   "source": [
    "<img src=\"../images/311-requests/case-status-options.png\">"
   ]
  },
  {
   "cell_type": "markdown",
   "metadata": {},
   "source": [
    "## Adding a dropdown menu"
   ]
  },
  {
   "cell_type": "code",
   "execution_count": null,
   "metadata": {
    "collapsed": true
   },
   "outputs": [],
   "source": [
    "# \"current document\" where all the the plots and layouts are held\n",
    "from bokeh.io import curdoc \n",
    "\n",
    "from bokeh.plotting import figure\n",
    "from bokeh.models import ColumnDataSource, Select\n",
    "from bokeh.layouts import row\n",
    "\n",
    "import pandas as pd\n",
    "\n",
    "# read the dataset\n",
    "service_requests = pd.read_csv('../datasets/service-requests.csv', index_col=0)\n",
    "\n",
    "# convert it to a ColumnDataSource\n",
    "sr_cds = ColumnDataSource(service_requests)\n",
    "\n",
    "# create the blank figure\n",
    "p = figure()\n",
    "\n",
    "# create circle glyphs with latitude and longitude coordinates as x and y\n",
    "p.circle('LATITUDE', 'LONGITUDE', source=sr_cds)\n",
    "\n",
    "# create a menu widget to be added to the curdoc\n",
    "menu = Select(options=['Closed', 'Open'], value='Closed', title='Case Status')\n",
    "\n",
    "# create a layout with one row\n",
    "layout = row(p, menu)\n",
    "\n",
    "# add the layout to the current document\n",
    "curdoc().add_root(layout)"
   ]
  },
  {
   "cell_type": "markdown",
   "metadata": {},
   "source": [
    "<img src=\"../images/311-requests/102.png\", height=400, width=400>"
   ]
  },
  {
   "cell_type": "markdown",
   "metadata": {},
   "source": [
    "## Connecting the Menu with the plot"
   ]
  },
  {
   "cell_type": "code",
   "execution_count": null,
   "metadata": {
    "collapsed": true
   },
   "outputs": [],
   "source": [
    "# \"current document\" where all the the plots and layouts are held\n",
    "from bokeh.io import curdoc \n",
    "\n",
    "from bokeh.plotting import figure\n",
    "from bokeh.models import ColumnDataSource, Select\n",
    "from bokeh.layouts import row\n",
    "\n",
    "import pandas as pd\n",
    "\n",
    "# read the dataset\n",
    "service_requests = pd.read_csv('../datasets/service-requests.csv', index_col=0)\n",
    "\n",
    "# filter the datasets by closed and open\n",
    "sr_closed = service_requests[service_requests['CASE_STATUS'] == 'Closed']\n",
    "sr_open = service_requests[service_requests['CASE_STATUS'] == 'Open']\n",
    "\n",
    "# convert it to a ColumnDataSource\n",
    "sr_cds = ColumnDataSource(service_requests)\n",
    "sr_cds_closed = ColumnDataSource(sr_closed)\n",
    "sr_cds_open = ColumnDataSource(sr_open)\n",
    "\n",
    "# create the blank figure\n",
    "p = figure()\n",
    "\n",
    "# create circle glyphs with latitude and longitude coordinates as x and y\n",
    "p.circle('LATITUDE', 'LONGITUDE', source=sr_cds)\n",
    "\n",
    "# create a menu widget to be added to the curdoc\n",
    "menu = Select(options=['Closed', 'Open'], value='Closed', title='Case Status')\n",
    "\n",
    "# create a function to connect the menu with the data source\n",
    "def update_plot(attr, old, new):\n",
    "    if menu.value == 'Closed':\n",
    "        # take the original CDS and replace the values from the LATITUDE and LONGITUDE keys\n",
    "        # with the values from the filtered CDS\n",
    "        sr_cds.data = {\n",
    "        'LATITUDE':sr_cds_closed.data['LATITUDE'],\n",
    "        'LONGITUDE':sr_cds_closed.data['LONGITUDE'],\n",
    "        }\n",
    "    else:\n",
    "        sr_cds.data = {\n",
    "        'LATITUDE':sr_cds_open.data['LATITUDE'],\n",
    "        'LONGITUDE':sr_cds_open.data['LONGITUDE'],\n",
    "        }\n",
    "\n",
    "\n",
    "menu.on_change('value', update_plot)\n",
    "\n",
    "# create a layout with one row\n",
    "layout = row(p, menu)\n",
    "\n",
    "# add the layout to the current document\n",
    "curdoc().add_root(layout)"
   ]
  },
  {
   "cell_type": "markdown",
   "metadata": {},
   "source": [
    "<img src=\"../images/311-requests/103.png\", height=400, width=400>"
   ]
  },
  {
   "cell_type": "markdown",
   "metadata": {},
   "source": [
    "## Adding a map to the data"
   ]
  },
  {
   "cell_type": "code",
   "execution_count": null,
   "metadata": {
    "collapsed": true
   },
   "outputs": [],
   "source": [
    "# \"current document\" where all the the plots and layouts are held\n",
    "from bokeh.io import curdoc \n",
    "\n",
    "from bokeh.plotting import figure\n",
    "from bokeh.models import ColumnDataSource, Select\n",
    "from bokeh.layouts import row\n",
    "from bokeh.tile_providers import CARTODBPOSITRON\n",
    "\n",
    "import pandas as pd\n",
    "\n",
    "# read the dataset\n",
    "service_requests = pd.read_csv('../datasets/service-requests.csv', index_col=0)\n",
    "\n",
    "# filter the datasets by closed and open\n",
    "sr_closed = service_requests[service_requests['CASE_STATUS'] == 'Closed']\n",
    "sr_open = service_requests[service_requests['CASE_STATUS'] == 'Open']\n",
    "\n",
    "# convert it to a ColumnDataSource\n",
    "sr_cds = ColumnDataSource(service_requests)\n",
    "sr_cds_closed = ColumnDataSource(sr_closed)\n",
    "sr_cds_open = ColumnDataSource(sr_open)\n",
    "\n",
    "# create the blank figure & use webgl to use GPU rendering in browser\n",
    "p = figure(webgl=True)\n",
    "\n",
    "# add a map\n",
    "p.add_tile(CARTODBPOSITRON)\n",
    "\n",
    "# create circle glyphs with wm_y and wm_x coordinates as x and y\n",
    "p.circle('wm_x', 'wm_y', source=sr_cds)\n",
    "\n",
    "# create a menu widget to be added to the curdoc\n",
    "menu = Select(options=['Closed', 'Open'], value='Closed', title='Case Status')\n",
    "\n",
    "# create a function to connect the menu with the data source\n",
    "def update_plot(attr, old, new):\n",
    "\tif menu.value == 'Closed':\n",
    "\t\t# take the original CDS and replace the values from the wm_y and wm_x keys\n",
    "\t\t# with the values from the filtered CDS\n",
    "\t\tsr_cds.data = {\n",
    "\t\t'wm_y':sr_cds_closed.data['wm_y'],\n",
    "\t\t'wm_x':sr_cds_closed.data['wm_x'],\n",
    "\t\t}\n",
    "\telse:\n",
    "\t\tsr_cds.data = {\n",
    "\t\t'wm_y':sr_cds_open.data['wm_y'],\n",
    "\t\t'wm_x':sr_cds_open.data['wm_x'],\n",
    "\t\t}\n",
    "\n",
    "\n",
    "menu.on_change('value', update_plot)\n",
    "\n",
    "# create a layout with one row\n",
    "layout = row(p, menu)\n",
    "\n",
    "# add the layout to the current document\n",
    "curdoc().add_root(layout)"
   ]
  }
 ],
 "metadata": {
  "kernelspec": {
   "display_name": "Python 3",
   "language": "python",
   "name": "python3"
  },
  "language_info": {
   "codemirror_mode": {
    "name": "ipython",
    "version": 3
   },
   "file_extension": ".py",
   "mimetype": "text/x-python",
   "name": "python",
   "nbconvert_exporter": "python",
   "pygments_lexer": "ipython3",
   "version": "3.6.1"
  }
 },
 "nbformat": 4,
 "nbformat_minor": 2
}
