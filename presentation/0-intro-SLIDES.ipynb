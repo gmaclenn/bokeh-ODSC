{
 "cells": [
  {
   "cell_type": "markdown",
   "metadata": {
    "slideshow": {
     "slide_type": "notes"
    }
   },
   "source": [
    "** Have Tabs open on browser **\n",
    "- http://www.123dapp.com/123D_Design/Python-Logo/6322593 - visualizations with python\n",
    "\n",
    "\n",
    "\n"
   ]
  },
  {
   "cell_type": "markdown",
   "metadata": {
    "collapsed": true,
    "slideshow": {
     "slide_type": "slide"
    }
   },
   "source": [
    "# Interactive Visualizations in Python\n"
   ]
  },
  {
   "cell_type": "markdown",
   "metadata": {
    "slideshow": {
     "slide_type": "slide"
    }
   },
   "source": [
    "# Who's in the Room?\n",
    "* Greg MacLennan\n",
    "* Tim Hogan\n",
    "* Your Background\n",
    "    * Your Role\n",
    "    * Python \n",
    "    * Visualizations\n",
    "    * Interactive Visualization"
   ]
  },
  {
   "cell_type": "markdown",
   "metadata": {
    "slideshow": {
     "slide_type": "slide"
    }
   },
   "source": [
    "# Learning Objectives\n",
    "\n",
    "1. Explain Interactive Visualizations\n",
    "1. Be able to create a simple plot\n",
    "1. Be able to build a simple dashboard\n",
    "1. Understand use cases of interactive visualizations"
   ]
  },
  {
   "cell_type": "markdown",
   "metadata": {
    "slideshow": {
     "slide_type": "slide"
    }
   },
   "source": [
    "# Agenda\n",
    "1. **Intro to Interactive Visualizations** \n",
    "1. **Intro to Bokeh Plotting**\n",
    "1. Practice - Bokeh Plotting\n",
    "1. ** Bokeh Interactivity**\n",
    "1. Practice - Bokeh Interactivity\n",
    "1. **Building a Dashboard**\n",
    "1. Practice - Dashboard Building\n",
    "1. **Building a Dashboard 2**\n",
    "1. Practice - Dashboard\n",
    "1. **Next Steps / Wrap up**"
   ]
  },
  {
   "cell_type": "markdown",
   "metadata": {
    "slideshow": {
     "slide_type": "slide"
    }
   },
   "source": [
    "<img src='../images/process.jpeg' >"
   ]
  },
  {
   "cell_type": "markdown",
   "metadata": {
    "slideshow": {
     "slide_type": "notes"
    }
   },
   "source": [
    "\n",
    "localhost:5006"
   ]
  },
  {
   "cell_type": "markdown",
   "metadata": {
    "slideshow": {
     "slide_type": "slide"
    }
   },
   "source": [
    "# Our App Today"
   ]
  },
  {
   "cell_type": "markdown",
   "metadata": {
    "slideshow": {
     "slide_type": "slide"
    }
   },
   "source": [
    "# What are Interactive Visualizations?\n",
    "- A graphical representation of data with some type of action or movement"
   ]
  },
  {
   "cell_type": "markdown",
   "metadata": {
    "slideshow": {
     "slide_type": "notes"
    }
   },
   "source": [
    "** Open these Tabs **\n",
    "- http://bokeh.pydata.org/en/latest/\n",
    "- https://demo.bokehplots.com/apps/gapminder\n",
    "- https://demo.bokehplots.com/apps/movies\n",
    "- http://algorithms-tour.stitchfix.com/#warehouse-assignment\n",
    "\n",
    "** Extras **\n",
    "- https://plot.ly/python/3d-point-clustering/\n",
    "- http://www.r2d3.us/visual-intro-to-machine-learning-part-1/\n",
    "\n",
    "\n"
   ]
  },
  {
   "cell_type": "markdown",
   "metadata": {
    "slideshow": {
     "slide_type": "slide"
    }
   },
   "source": [
    "# Why Interactive Visualizations\n",
    "* More dimensions in a cleaner way\n",
    "* Show over time\n",
    "* Show movement\n",
    "* What if analysis\n",
    "* Communication tool"
   ]
  },
  {
   "cell_type": "markdown",
   "metadata": {
    "slideshow": {
     "slide_type": "slide"
    }
   },
   "source": [
    "# Bokeh vs. Paid \n",
    "\n",
    "## Bokeh:\n",
    "* Free\n",
    "* Integration with the Python Ecosystem\n",
    "* Integration with the JavaScript Ecosystem\n",
    "* Flexibility\n",
    "* Speed to build dashboard\n",
    "    * Reusing work between workbooks\n",
    "* Dev-Ops\n",
    "    * Version Control    \n",
    "\n",
    "## Paid:\n",
    "* Non-technical audience\n",
    "* Sexy graphics out of the box"
   ]
  },
  {
   "cell_type": "markdown",
   "metadata": {
    "collapsed": true,
    "slideshow": {
     "slide_type": "slide"
    }
   },
   "source": [
    "# Empower your Organization\n",
    "* Encourage exploration\n",
    "* Enable domain experts\n",
    "* Reduce your workload\n",
    "* Anywhere in the world\n",
    "<img src='https://static1.squarespace.com/static/5244bc31e4b0d312c8099ac4/t/558ad4eae4b07586afc70799/1435161837235/ORGANIZATIONAL+RE-ORGANIZATION+%28OR%29.jpg?format=1500w' style='width:400px'>"
   ]
  },
  {
   "cell_type": "markdown",
   "metadata": {
    "slideshow": {
     "slide_type": "slide"
    }
   },
   "source": [
    "# Intro to Plotting\n",
    "<img src='http://bokeh.pydata.org/en/0.8.2/_images/burtin_novel.png' style='width:500px'>"
   ]
  },
  {
   "cell_type": "markdown",
   "metadata": {
    "slideshow": {
     "slide_type": "slide"
    }
   },
   "source": [
    "# What can we do with Interactive Visualizations?"
   ]
  },
  {
   "cell_type": "markdown",
   "metadata": {
    "slideshow": {
     "slide_type": "slide"
    }
   },
   "source": [
    "# What functionality does \"Interactive\" charts bring us?\n",
    "\n",
    "- Dropdowns\n",
    "- Buttons\n",
    "- Input Fields\n",
    "- Level of Detail (LOD)\n",
    "- Point Selection\n",
    "- Data Flow"
   ]
  },
  {
   "cell_type": "markdown",
   "metadata": {
    "slideshow": {
     "slide_type": "slide"
    }
   },
   "source": [
    "# Dropdowns\n",
    "\n",
    "- Faster Filtering\n",
    "- Change the underlying data\n",
    "- Change the algorithm we are running"
   ]
  },
  {
   "cell_type": "markdown",
   "metadata": {
    "slideshow": {
     "slide_type": "slide"
    }
   },
   "source": [
    "# Buttons\n",
    "\n",
    "- Start computation\n",
    "- Download CSV\n",
    "- Redo Analysis with selected data"
   ]
  },
  {
   "cell_type": "markdown",
   "metadata": {
    "slideshow": {
     "slide_type": "slide"
    }
   },
   "source": [
    "# Input Fields\n",
    "\n",
    "- Search for certain data\n",
    "- Input values for the parameters of a model\n",
    "- Add additional data points"
   ]
  },
  {
   "cell_type": "markdown",
   "metadata": {
    "slideshow": {
     "slide_type": "slide"
    }
   },
   "source": [
    "# Level of Detail (LOD)\n",
    "\n",
    "- Look at a problem at a system level, then drill down\n",
    "- Explore features we didn't include\n"
   ]
  },
  {
   "cell_type": "markdown",
   "metadata": {
    "slideshow": {
     "slide_type": "slide"
    }
   },
   "source": [
    "# Point Selection / Modification\n",
    "\n",
    "- Assisted Machine Learning\n",
    "- Re-run algorithm / statistics with selected points"
   ]
  },
  {
   "cell_type": "markdown",
   "metadata": {
    "slideshow": {
     "slide_type": "slide"
    }
   },
   "source": [
    "# Data Flow\n",
    "\n",
    "- Tell a story\n",
    "    - Explain the past\n",
    "    - Explain a process\n",
    "    - Explain a strategy\n",
    "- Analyze motion overtime\n",
    "    - Spatially\n",
    "    - Features wise"
   ]
  },
  {
   "cell_type": "markdown",
   "metadata": {
    "slideshow": {
     "slide_type": "slide"
    }
   },
   "source": [
    "# Walk through of adding interactivity"
   ]
  },
  {
   "cell_type": "markdown",
   "metadata": {
    "slideshow": {
     "slide_type": "slide"
    }
   },
   "source": [
    "# Next Steps\n",
    "- Practice, Practice, Play"
   ]
  },
  {
   "cell_type": "markdown",
   "metadata": {
    "slideshow": {
     "slide_type": "slide"
    }
   },
   "source": [
    "# Javascript\n",
    "- Ready for the web\n",
    "- Robust Ecosystem \n",
    "- Flask\n",
    "- Dynamic Loading\n",
    "\n",
    "\n",
    "## Libraries\n",
    "- D3\n",
    "- http://www.jsgraphs.com/"
   ]
  },
  {
   "cell_type": "markdown",
   "metadata": {
    "slideshow": {
     "slide_type": "notes"
    }
   },
   "source": [
    "** OPEN TABS **\n",
    "- http://www.jsgraphs.com/\n",
    "- http://js.cytoscape.org/#demos\n",
    "\n",
    "- http://mbostock.github.io/d3/talk/20111116/iris-parallel.html\n",
    "- http://www.wineandcheesemap.com/\n",
    "- http://sigmajs.org/"
   ]
  },
  {
   "cell_type": "markdown",
   "metadata": {
    "slideshow": {
     "slide_type": "slide"
    }
   },
   "source": [
    "# Come talk to us about:\n",
    "* Want access to free interactive tutorials\n",
    "* Interested in taking a Data Science Course at General Assembly\n",
    "* Where to focus your learning\n",
    "* Art of the possible\n",
    "* Build a technology strategy\n"
   ]
  },
  {
   "cell_type": "markdown",
   "metadata": {
    "slideshow": {
     "slide_type": "slide"
    }
   },
   "source": [
    "# Learning Objectives Recapped\n",
    "\n",
    "1. Explain Interactive Visualizations\n",
    "1. Be able to plot simple plots\n",
    "1. Be able to build a simple dashboard\n",
    "1. Understand use cases of interactive visualizations\n",
    "\n",
    "# Thank you !"
   ]
  },
  {
   "cell_type": "markdown",
   "metadata": {
    "slideshow": {
     "slide_type": "skip"
    }
   },
   "source": [
    "# Best Practices\n",
    "\n",
    "- Take GA List\n",
    "- Visualization is Trial and Error"
   ]
  },
  {
   "cell_type": "markdown",
   "metadata": {
    "slideshow": {
     "slide_type": "slide"
    }
   },
   "source": [
    "FAQ\n",
    "http://bokehplots.com/pages/faqs.html\n",
    "\n",
    "Defining Key concepts\n",
    "http://bokeh.pydata.org/en/latest/docs/user_guide/concepts.html#userguide-concepts\n",
    "\n",
    "\n"
   ]
  },
  {
   "cell_type": "markdown",
   "metadata": {},
   "source": [
    "\n"
   ]
  },
  {
   "cell_type": "code",
   "execution_count": null,
   "metadata": {
    "collapsed": true
   },
   "outputs": [],
   "source": []
  }
 ],
 "metadata": {
  "celltoolbar": "Slideshow",
  "kernelspec": {
   "display_name": "Python 2",
   "language": "python",
   "name": "python2"
  },
  "language_info": {
   "codemirror_mode": {
    "name": "ipython",
    "version": 2
   },
   "file_extension": ".py",
   "mimetype": "text/x-python",
   "name": "python",
   "nbconvert_exporter": "python",
   "pygments_lexer": "ipython2",
   "version": "2.7.13"
  }
 },
 "nbformat": 4,
 "nbformat_minor": 2
}
