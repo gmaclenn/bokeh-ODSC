{
 "cells": [
  {
   "cell_type": "code",
   "execution_count": 1,
   "metadata": {
    "collapsed": true
   },
   "outputs": [],
   "source": [
    "import pandas as pd\n",
    "\n",
    "# Potential Datasets\n",
    "service_requests = pd.read_csv('../datasets/service-requests-5000.csv', usecols= \\\n",
    "                       ['LATITUDE', 'LONGITUDE', 'OPEN_DT', 'Source', 'Geocoded_Location', 'REASON', 'neighborhood'])\n",
    "\n",
    "building_data = pd.read_csv('../datasets/Building_Energy_and_Water_Use_Metrics.csv')\n",
    "\n",
    "liquor_licenses = pd.read_csv('../datasets/Liquor_Licenses.csv')"
   ]
  },
  {
   "cell_type": "code",
   "execution_count": 4,
   "metadata": {},
   "outputs": [
    {
     "data": {
      "text/html": [
       "<div>\n",
       "<table border=\"1\" class=\"dataframe\">\n",
       "  <thead>\n",
       "    <tr style=\"text-align: right;\">\n",
       "      <th></th>\n",
       "      <th>OPEN_DT</th>\n",
       "      <th>REASON</th>\n",
       "      <th>neighborhood</th>\n",
       "      <th>LATITUDE</th>\n",
       "      <th>LONGITUDE</th>\n",
       "      <th>Source</th>\n",
       "      <th>Geocoded_Location</th>\n",
       "    </tr>\n",
       "  </thead>\n",
       "  <tbody>\n",
       "    <tr>\n",
       "      <th>4998</th>\n",
       "      <td>05/13/2015 07:27:00 AM</td>\n",
       "      <td>Administrative &amp; General Requests</td>\n",
       "      <td>South Boston / South Boston Waterfront</td>\n",
       "      <td>42.3328</td>\n",
       "      <td>-71.0510</td>\n",
       "      <td>Constituent Call</td>\n",
       "      <td>(42.3328, -71.051)</td>\n",
       "    </tr>\n",
       "    <tr>\n",
       "      <th>4999</th>\n",
       "      <td>02/11/2015 07:09:21 AM</td>\n",
       "      <td>Street Cleaning</td>\n",
       "      <td>South Boston / South Boston Waterfront</td>\n",
       "      <td>42.3305</td>\n",
       "      <td>-71.0427</td>\n",
       "      <td>Self Service</td>\n",
       "      <td>(42.3305, -71.0427)</td>\n",
       "    </tr>\n",
       "  </tbody>\n",
       "</table>\n",
       "</div>"
      ],
      "text/plain": [
       "                     OPEN_DT                             REASON  \\\n",
       "4998  05/13/2015 07:27:00 AM  Administrative & General Requests   \n",
       "4999  02/11/2015 07:09:21 AM                    Street Cleaning   \n",
       "\n",
       "                                neighborhood  LATITUDE  LONGITUDE  \\\n",
       "4998  South Boston / South Boston Waterfront   42.3328   -71.0510   \n",
       "4999  South Boston / South Boston Waterfront   42.3305   -71.0427   \n",
       "\n",
       "                Source    Geocoded_Location  \n",
       "4998  Constituent Call   (42.3328, -71.051)  \n",
       "4999      Self Service  (42.3305, -71.0427)  "
      ]
     },
     "execution_count": 4,
     "metadata": {},
     "output_type": "execute_result"
    }
   ],
   "source": [
    "service_requests.tail(2)"
   ]
  },
  {
   "cell_type": "markdown",
   "metadata": {},
   "source": [
    "## Basic Bar Chart\n",
    "Using bokeh.charts Bar function create a simple bar chart of the sources of 311 requests."
   ]
  },
  {
   "cell_type": "code",
   "execution_count": 10,
   "metadata": {
    "collapsed": true
   },
   "outputs": [],
   "source": [
    "from bokeh.charts import Bar, output_file, show\n",
    "\n",
    "p = Bar(service_requests['Source'].value_counts(),\n",
    "        title='Bar Chart of Source Requests')\n",
    "\n",
    "output_file('../html-output/sources_bar.html')\n",
    "\n",
    "show(p)"
   ]
  },
  {
   "cell_type": "markdown",
   "metadata": {},
   "source": [
    "## Basic Scatter Plot\n",
    "Allows the user to pan around zoom. You have x-axis labels and y-axis labels already defined. Just need a title and an output_file name. Really easy to set up."
   ]
  },
  {
   "cell_type": "code",
   "execution_count": 5,
   "metadata": {
    "collapsed": true
   },
   "outputs": [],
   "source": [
    "from bokeh.io import output_file, show\n",
    "from bokeh.charts import Scatter\n",
    "\n",
    "p = Scatter(building_data, 'GHG_Emissions', 'Gross_Sq_Ft',\n",
    "            title=\"Scatter Plot of Greenhouse Gas Emissions vs. Gross Square Feet\")\n",
    "\n",
    "output_file(\"../html-output/simple-scatter.html\",)\n",
    "\n",
    "show(p)"
   ]
  },
  {
   "cell_type": "markdown",
   "metadata": {},
   "source": [
    "## Bokeh.plotting Scatter Plot\n",
    "Now we're going to generate the same scatter plot but using the lower level bokeh.plotting module."
   ]
  },
  {
   "cell_type": "code",
   "execution_count": 2,
   "metadata": {
    "collapsed": true
   },
   "outputs": [],
   "source": [
    "from bokeh.plotting import figure\n",
    "from bokeh.io import output_file, show\n",
    "\n",
    "ghg = building_data['GHG_Emissions'] # x-values\n",
    "sqft = building_data['Gross_Sq_Ft'] # y-values\n",
    "\n",
    "# Set up the figure\n",
    "p = figure(x_axis_label='GHG_Emissions', y_axis_label='Gross_Sq_Ft')\n",
    "\n",
    "# Add a circle glyph to the figure p\n",
    "# arg1 for x-coord arg2 for y-coord\n",
    "p.circle(ghg, sqft)\n",
    "\n",
    "# Call the output_file() function and specify the name of the file\n",
    "output_file('../html-output/ghg-sqft-scatter.html')\n",
    "\n",
    "# Display the plot\n",
    "show(p)"
   ]
  },
  {
   "cell_type": "markdown",
   "metadata": {},
   "source": [
    "## Basic Scatter Plot #2"
   ]
  },
  {
   "cell_type": "code",
   "execution_count": 3,
   "metadata": {
    "collapsed": true
   },
   "outputs": [],
   "source": [
    "from bokeh.charts import Scatter\n",
    "from bokeh.sampledata.iris import flowers as df\n",
    "\n",
    "p = Scatter(df, x='petal_length', y='sepal_length', color='species')\n",
    "\n",
    "output_file('../html-output/basic-scatter-2.html')\n",
    "\n",
    "show(p)"
   ]
  },
  {
   "cell_type": "markdown",
   "metadata": {},
   "source": [
    "## Modifying glyph properties\n",
    "* Alpha, Size, Color\n",
    "* Many others but these will get you quite far"
   ]
  },
  {
   "cell_type": "markdown",
   "metadata": {},
   "source": [
    "We'll change the Alpha, Size and Color all in one go and make them large changes and in the case of the color obnoxiously bright to show the difference."
   ]
  },
  {
   "cell_type": "code",
   "execution_count": 7,
   "metadata": {
    "collapsed": true
   },
   "outputs": [],
   "source": [
    "from bokeh.plotting import figure\n",
    "from bokeh.io import output_file, show\n",
    "\n",
    "ghg = building_data['GHG_Emissions'] # x-values\n",
    "sqft = building_data['Gross_Sq_Ft'] # y-values\n",
    "\n",
    "# Set up the figure\n",
    "p = figure(x_axis_label='GHG_Emissions', y_axis_label='Gross_Sq_Ft')\n",
    "\n",
    "# Add a circle glyph to the figure p\n",
    "# arg1 for x-coord arg2 for y-coord\n",
    "p.circle(ghg, sqft, alpha=0.5, color='magenta', size=15)\n",
    "\n",
    "# Call the output_file() function and specify the name of the file\n",
    "output_file('../html-output/ghg-sqft-scatter-modified.html')\n",
    "\n",
    "# Display the plot\n",
    "show(p)"
   ]
  },
  {
   "cell_type": "markdown",
   "metadata": {},
   "source": [
    "## Basic Histogram"
   ]
  },
  {
   "cell_type": "code",
   "execution_count": 11,
   "metadata": {
    "collapsed": true
   },
   "outputs": [],
   "source": [
    "## CREATING A BASIC HISTOGRAM WITH BOKEH\n",
    "\n",
    "from bokeh.charts import Histogram, output_file, show\n",
    "from bokeh.sampledata.iris import flowers as df\n",
    "\n",
    "p = Histogram(df, 'petal_length', bins=10, color='species')\n",
    "\n",
    "output_file('../html-output/histogram.html')\n",
    "\n",
    "show(p)"
   ]
  },
  {
   "cell_type": "markdown",
   "metadata": {
    "collapsed": true
   },
   "source": [
    "## Boston 311 Requests Mapped"
   ]
  },
  {
   "cell_type": "code",
   "execution_count": 11,
   "metadata": {
    "collapsed": true
   },
   "outputs": [],
   "source": [
    "from bokeh.io import output_file, show\n",
    "from bokeh.models import (\n",
    "    GMapPlot, GMapOptions, ColumnDataSource, Circle, DataRange1d, PanTool, WheelZoomTool, BoxSelectTool, HoverTool\n",
    ")\n",
    "\n",
    "map_options = GMapOptions(lat=42.3601, lng=-71.0589,\n",
    "                          map_type=\"roadmap\", zoom=11)\n",
    "\n",
    "plot = GMapPlot(\n",
    "    x_range=DataRange1d(), y_range=DataRange1d(), map_options=map_options,\n",
    ")\n",
    "plot.title.text = \"Boston 311 Requests\"\n",
    "\n",
    "# For GMaps to function, Google requires you obtain and enable an API key:\n",
    "#\n",
    "#     https://developers.google.com/maps/documentation/javascript/get-api-key\n",
    "#\n",
    "# Replace the value below with your personal API key:\n",
    "plot.api_key = \"\"\n",
    "\n",
    "source = ColumnDataSource(\n",
    "    data=dict(\n",
    "        lat=service_requests['LATITUDE'],\n",
    "        lon=service_requests['LONGITUDE'],\n",
    "        src=service_requests['Source'],\n",
    "    )\n",
    ")\n",
    "\n",
    "circle = Circle(x=\"lon\", y=\"lat\", size=3, fill_color=\"red\",\n",
    "                fill_alpha=0.4, line_color=None)\n",
    "\n",
    "plot.add_glyph(source, circle)\n",
    "\n",
    "plot.add_tools(PanTool(), WheelZoomTool(), BoxSelectTool())\n",
    "output_file(\"../html-output/gmap_plot.html\")\n",
    "show(plot)"
   ]
  },
  {
   "cell_type": "markdown",
   "metadata": {},
   "source": [
    "## Creating a Button"
   ]
  },
  {
   "cell_type": "code",
   "execution_count": null,
   "metadata": {
    "collapsed": true
   },
   "outputs": [],
   "source": [
    "# Example code on how to create a button\n",
    "from bokeh.models import Button\n",
    "\n",
    "button = Button(label='Export to CSV')\n",
    "\n",
    "def export_to_csv():\n",
    "    # Export the file to CSV\n",
    "    \n",
    "button.on_click(export_to_csv)"
   ]
  }
 ],
 "metadata": {
  "kernelspec": {
   "display_name": "Python 3",
   "language": "python",
   "name": "python3"
  },
  "language_info": {
   "codemirror_mode": {
    "name": "ipython",
    "version": 3
   },
   "file_extension": ".py",
   "mimetype": "text/x-python",
   "name": "python",
   "nbconvert_exporter": "python",
   "pygments_lexer": "ipython3",
   "version": "3.6.1"
  }
 },
 "nbformat": 4,
 "nbformat_minor": 2
}
